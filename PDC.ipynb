{
 "cells": [
  {
   "cell_type": "code",
   "execution_count": null,
   "metadata": {},
   "outputs": [],
   "source": [
    "# pip install ...\n",
    "# https://stackoverflow.com/questions/13566200/how-can-i-install-from-a-git-subdirectory-with-pip"
   ]
  },
  {
   "cell_type": "markdown",
   "metadata": {},
   "source": [
    "---\n",
    "# **Locality:**"
   ]
  },
  {
   "cell_type": "code",
   "execution_count": null,
   "metadata": {},
   "outputs": [],
   "source": [
    "from PDCLib.Locality import Data, render\n",
    "\n",
    "# 'Data' Is An Array Like Class\n",
    "# def __init__(memory_len, cache_len):\n",
    "data = Data(10, 5)\n",
    "\n",
    "# Try Out Your Own Algorithms :)\n",
    "# https://github.com/SvenWoltmann/sorting-algorithms-ultimate-guide\n",
    "def square_root():\n",
    "    for i in range(len(data)):\n",
    "        data[i] = int(data[i] ** (1 / 2))\n",
    "\n",
    "square_root()\n",
    "\n",
    "# Render Your Data To Observe It's Cache Behavior\n",
    "render(data)"
   ]
  },
  {
   "cell_type": "markdown",
   "metadata": {},
   "source": [
    "---\n",
    "# **Concurrency:**"
   ]
  },
  {
   "cell_type": "code",
   "execution_count": 1,
   "metadata": {},
   "outputs": [
    {
     "data": {
      "image/png": "[encoded data removed]",
      "text/plain": [
       "<Figure size 1000x600 with 1 Axes>"
      ]
     },
     "metadata": {},
     "output_type": "display_data"
    }
   ],
   "source": [
    "from PDCLib.Concurrency import *\n",
    "from threading import Thread # This Could Be Useful\n",
    "\n",
    "screen = Screen()\n",
    "\n",
    "# Using The Coordinates Of A Pixel, Return It's RGB Value\n",
    "def get_pixel_rgb(x: int, y: int) -> tuple[int, int, int]:\n",
    "    return (255/screen.width() * x, 0, 255 / screen.height() * y)\n",
    "\n",
    "# Fill Only A Row\n",
    "def fill_screen_row(y: int) -> None:\n",
    "    for x in range(screen.width()):\n",
    "        screen[x, y] = get_pixel_rgb(x, y)\n",
    "\n",
    "# Fill Your Screen... If Only It Was A Little Faster\n",
    "def fill_screen() -> None:\n",
    "    for y in range(screen.height()):\n",
    "        fill_screen_row(y)\n",
    "\n",
    "# This Is Cheating... It Should Be Left As An Exercise\n",
    "def fill_screen_cheat() -> None:\n",
    "    th_pool = [None] * screen.height()\n",
    "\n",
    "    for i in range(screen.height()):\n",
    "        th_pool[i] = Thread(target=fill_screen_row, args=(i,))\n",
    "        th_pool[i].start()\n",
    "\n",
    "    for th in th_pool:\n",
    "        th.join()\n",
    "\n",
    "#fill_screen()\n",
    "fill_screen_cheat()"
   ]
  },
  {
   "cell_type": "markdown",
   "metadata": {},
   "source": [
    "---\n",
    "# **Asynchronousity:**"
   ]
  },
  {
   "cell_type": "code",
   "execution_count": null,
   "metadata": {},
   "outputs": [],
   "source": [
    "from PDCLib.Asynchronousity import *\n",
    "\n",
    "async def main():\n",
    "    pass"
   ]
  },
  {
   "cell_type": "markdown",
   "metadata": {},
   "source": [
    "---\n",
    "# **Performance:**"
   ]
  },
  {
   "cell_type": "code",
   "execution_count": null,
   "metadata": {},
   "outputs": [],
   "source": [
    "from PDCLib.Performance import *"
   ]
  }
 ],
 "metadata": {
  "kernelspec": {
   "display_name": "base",
   "language": "python",
   "name": "python3"
  },
  "language_info": {
   "codemirror_mode": {
    "name": "ipython",
    "version": 3
   },
   "file_extension": ".py",
   "mimetype": "text/x-python",
   "name": "python",
   "nbconvert_exporter": "python",
   "pygments_lexer": "ipython3",
   "version": "3.10.11"
  }
 },
 "nbformat": 4,
 "nbformat_minor": 2
}
