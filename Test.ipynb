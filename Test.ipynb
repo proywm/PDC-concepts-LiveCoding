{
 "cells": [
  {
   "cell_type": "code",
   "execution_count": 59,
   "metadata": {},
   "outputs": [
    {
     "data": {
      "text/html": [
       "<!DOCTYPE html>\n",
       "\n",
       "<html> \n",
       "    <head>\n",
       "        <script src=\"https://code.jquery.com/jquery-3.7.1.min.js\"></script>\n",
       "        <script src=\"locality.js\"></script>\n",
       "    </head>\n",
       "\n",
       "    <body onload=\"\">\n",
       "        <div id=\"bookshelf\"></div>\n",
       "        <br>\n",
       "        <svg id=\"table\" width=\"700px\" height=\"200px\"></svg>\n",
       "        <br>\n",
       "        <button id=\"study\">Study!</button>\n",
       "\n",
       "        <style>\n",
       "            #bookshelf {\n",
       "                display: flex;\n",
       "                align-items: flex-end;\n",
       "                column-gap: 3px;\n",
       "                width: fit-content;\n",
       "                height: fit-content;\n",
       "                background-color: #342E30;\n",
       "                border: #9e603e;\n",
       "                border-style: solid;\n",
       "                border-width: 8px;\n",
       "                padding-top: 10px;\n",
       "                padding-left: 2px;\n",
       "                padding-right: 2px;\n",
       "            }\n",
       "\n",
       "            #table {\n",
       "                background-color: #9e603e;\n",
       "            }\n",
       "        </style>\n",
       "    </body>\n",
       "</html>"
      ],
      "text/plain": [
       "<IPython.core.display.HTML object>"
      ]
     },
     "metadata": {},
     "output_type": "display_data"
    },
    {
     "data": {
      "application/javascript": "function randRange(min, max) {\n    return Math.floor((max - min) * Math.random()) + min;\n}\n\nfunction randString(len) {\n    const chars = \"ABCDEFGHIJKLMNOPQRSTUVWXYZ0123456789\";\n    let str = \"\";\n    for (let i = 0; i != len; i++) {\n        str += chars.charAt(randRange(0, chars.length));\n    }\n    return str;\n}\n\n//\n//\n\nconst svgNamespace = \"http://www.w3.org/2000/svg\";\nconst bookColors = [ \"#8D544B\", \"#446463\", \"#AA483B\", \"#89969F\", \"#56565E\", \"#EFB561\", \"#749159\", \"#8E5053\" ];\nlet bookshelfElem = undefined;\nlet bookshelfState = [ ];\nlet tableElem = undefined;\nlet tableState = { };\nlet bookLookup = { };\n\n//\n//\n\nfunction bookGetInfo(book) {\n    return bookLookup[book.getAttribute(\"id\")];\n}\n\nfunction bookSetUpright(book, bookInfo) {\n    book.setAttribute(\"width\", bookInfo.width.toString());\n\n    let paper = book.getElementById(\"paper\");\n    paper.style = { };\n    paper.style.display = \"none\"\n\n    let spine = book.getElementById(\"spine\");\n    spine.setAttribute(\"width\", bookInfo.width.toString());\n    spine.setAttribute(\"height\", bookInfo.height.toString());\n    spine.setAttribute(\"fill\", bookInfo.color);\n\n    let shadow = book.getElementById(\"shadow\");\n    shadow.setAttribute(\"width\", (bookInfo.width / 2).toString());\n    shadow.setAttribute(\"height\", bookInfo.height.toString());\n    shadow.setAttribute(\"fill\", \"black\");\n    shadow.setAttribute(\"opacity\", \"15%\");\n    shadow.setAttribute(\"x\", (bookInfo.width / 2).toString());\n    shadow.setAttribute(\"y\", 0);\n    bookInfo.state = \"upright\";\n}\n\nfunction bookSetClosed(book, bookInfo) {\n    book.setAttribute(\"width\", bookInfo.depth.toString());\n    \n    let paper = book.getElementById(\"paper\");\n    paper.style.display = \"none\";\n    \n    let spine = book.getElementById(\"spine\");\n    spine.setAttribute(\"width\", bookInfo.depth.toString());\n    spine.setAttribute(\"height\", bookInfo.height.toString());\n    spine.setAttribute(\"fill\", bookInfo.color);\n    \n    let shadow = book.getElementById(\"shadow\");\n    shadow.setAttribute(\"width\", (bookInfo.depth / 2).toString());\n    shadow.setAttribute(\"height\", bookInfo.height.toString());\n    shadow.setAttribute(\"fill\", \"black\");\n    shadow.setAttribute(\"opacity\", \"15%\");\n    shadow.setAttribute(\"x\", (bookInfo.depth / 2).toString());\n    shadow.setAttribute(\"y\", 0);\n    \n    bookInfo.state = \"closed\";\n}\n\nfunction bookSetOpen(book, bookInfo) {\n    book.setAttribute(\"width\", (bookInfo.depth * 2).toString());\n    \n    let paper = book.getElementById(\"paper\");\n    paper.style.display = \"block\";\n    paper.setAttribute(\"width\", \"100%\");\n    paper.setAttribute(\"height\", \"100%\");\n    paper.setAttribute(\"transform-origin\", \"50% 50%\");\n    paper.setAttribute(\"transform\", \"scale(.9)\");\n    paper.setAttribute(\"fill\", \"#f5edd6\");\n    paper.style.filter = \"drop-shadow(3px 5px 2px rgb(0 0 0 / 0.4))\";\n    \n    let spine = book.getElementById(\"spine\");\n    spine.setAttribute(\"width\", (bookInfo.depth * 2).toString());\n    spine.setAttribute(\"height\", bookInfo.height.toString());\n    spine.setAttribute(\"fill\", bookInfo.color);\n    \n    let shadow = book.getElementById(\"shadow\");\n    shadow.setAttribute(\"width\", (bookInfo.depth).toString());\n    shadow.setAttribute(\"height\", bookInfo.height.toString());\n    shadow.setAttribute(\"fill\", \"black\");\n    shadow.setAttribute(\"opacity\", \"15%\");\n    shadow.setAttribute(\"x\", (bookInfo.depth).toString());\n    shadow.setAttribute(\"y\", 0);\n    \n    bookInfo.state = \"open\";\n}\n\nfunction bookSetState(book, state) {\n    let bookInfo = bookGetInfo(book);\n    switch(state) {\n        case \"upright\": bookSetUpright(book, bookInfo); break;\n        case \"closed\":  bookSetClosed(book, bookInfo);  break;\n        case \"open\":    bookSetOpen(book, bookInfo);    break;\n    }\n}   \n\nfunction bookShow(book) {\n    book.setAttribute(\"opacity\", \"100%\");\n}\n\nfunction bookHide(book) {\n    book.setAttribute(\"opacity\", \"0%\");\n}\n\nfunction bookHighlight(book) {\n    book.getElementById(\"spine\").setAttribute(\"stroke-width\", \"5\");\n}\n\nfunction bookUnHighlight(book) {\n    book.getElementById(\"spine\").setAttribute(\"stroke-width\", \"0\");\n}\n\nfunction bookMove(book, x, y) {\n    book.setAttribute(\"x\", x.toString());\n    book.setAttribute(\"y\", y.toString());\n}\n\nfunction bookFromInfo(bookInfo) {\n    bookInfo.svg = document.createElementNS(svgNamespace, \"svg\");\n    bookInfo.svg.setAttribute(\"id\", \"book-\" + randString(10));\n    bookInfo.svg.setAttribute(\"x\", \"0\");\n    bookInfo.svg.setAttribute(\"y\", \"0\");\n    bookInfo.svg.setAttribute(\"width\", bookInfo.width.toString());\n    bookInfo.svg.setAttribute(\"height\", bookInfo.height.toString());\n    let bookSpine = document.createElementNS(svgNamespace, \"rect\");\n    bookSpine.setAttribute(\"id\", \"spine\");\n    bookSpine.setAttribute(\"stroke\", \"white\");\n    bookSpine.setAttribute(\"stroke-width\", \"0\");\n    let bookShadow = document.createElementNS(svgNamespace, \"rect\");\n    bookShadow.setAttribute(\"id\", \"shadow\");\n    let bookPaper = document.createElementNS(svgNamespace, \"rect\");\n    bookPaper.setAttribute(\"id\", \"paper\");\n    bookInfo.svg.appendChild(bookSpine);\n    bookInfo.svg.appendChild(bookShadow);\n    bookInfo.svg.appendChild(bookPaper);\n    bookInfo.svg.addEventListener(\"mouseenter\", () => bookHighlight(bookInfo.svg));\n    bookInfo.svg.addEventListener(\"mouseleave\", () => bookUnHighlight(bookInfo.svg));\n    \n    bookLookup[bookInfo.svg.getAttribute(\"id\")] = bookInfo;\n    bookSetState(bookInfo.svg, bookInfo.state);\n    return bookInfo.svg;\n}\n\nfunction bookCopy(book) {\n    let bookInfo = bookGetInfo(book);\n    let copyBookInfo = {\n        width:      bookInfo.width, \n        height:     bookInfo.height,\n        depth:      bookInfo.depth,\n        title:      bookInfo.title,\n        content:    bookInfo.content,\n        state:      bookInfo.state,\n        color:      bookInfo.color,\n        svg:        undefined\n    };\n    return bookFromInfo(copyBookInfo);\n}\n\nfunction bookNew(title, content, state = \"upright\") {\n    let width = randRange(24, 60);\n    let height = randRange(145, 185);\n    let bookInfo = {\n        width:  width,\n        height: height,\n        depth: randRange(height / 2, height * 3 / 4),\n        title: title,\n        content: content,\n        state: state,\n        color: bookColors[randRange(0, bookColors.length)],\n        svg: undefined\n    };\n    return bookFromInfo(bookInfo);\n}\n\nfunction bookDelete(book) {\n    bookLookup[book.getAttribute(\"id\")] = undefined;\n    book.remove();\n}\n\n//\n//\n\nfunction bookshelfAdd(book) {\n    bookshelfState.push(book);\n    bookshelfElem.append(book);\n}\n\nfunction bookshelfGet(index) {\n    return bookshelfState[index];\n}\n\nfunction bookshelfLength() {\n    return bookshelfState.length;\n}\n\n//\n//\n\nfunction tableAdd(book) {\n    let tableBook = bookCopy(book);\n    let bookInfo = bookGetInfo(tableBook);\n    tableState[bookInfo.title] = tableBook;\n    tableElem.append(tableBook);\n}\n\nfunction tableGet(title) {\n    return tableState[title];\n}\n\nfunction tableRemove(title) {\n    let book = tableGet(title);\n\n    if (book !== undefined) {\n        bookDelete(book);\n    }\n}\n\nfunction tableFocus(title) {\n    let book = tableGet(title);\n    let bookInfo = bookGetInfo(book);\n    if (book !== undefined) {\n        bookSetState(book, \"open\");\n        bookMove(book, (700 / 2) - (Number(book.getAttribute(\"width\")) / 2), (200 / 2) - (Number(book.getAttribute(\"height\")) / 2));\n    }\n}\n\n\n//\n//\n\nasync function sleep(timeout) {\n    await new Promise((resolve) => setTimeout(resolve, timeout));\n}\n\nasync function study() {\n    for (let i = 0; i != bookshelfLength(); i++) {\n        let book = bookshelfGet(i);\n        let bookInfo = bookGetInfo(book);\n        bookHide(book);\n\n        tableAdd(book);\n        await sleep(1000);\n\n        tableFocus(bookInfo.title);\n        await sleep(1000);\n\n        bookShow(book);\n        tableRemove(bookInfo.title);\n        await sleep(1000);\n    }\n}\n\n//\n//\n\n$(document).ready(() => {\n    bookshelfElem = $(\"#bookshelf\");    \n    tableElem = $(\"#table\");\n\n    $(\"#study\").click(() => study());\n\n    for (let i = 0; i != 16; i++) {\n        bookshelfAdd(bookNew(i.toString(), i.toString()));\n    }\n});",
      "text/plain": [
       "<IPython.core.display.Javascript object>"
      ]
     },
     "metadata": {},
     "output_type": "display_data"
    }
   ],
   "source": [
    "from IPython.display import display, HTML, Javascript\n",
    "\n",
    "display(HTML(open(\"locality.html\").read()))\n",
    "display(Javascript(open(\"locality.js\").read()))"
   ]
  }
 ],
 "metadata": {
  "kernelspec": {
   "display_name": "base",
   "language": "python",
   "name": "python3"
  },
  "language_info": {
   "codemirror_mode": {
    "name": "ipython",
    "version": 3
   },
   "file_extension": ".py",
   "mimetype": "text/x-python",
   "name": "python",
   "nbconvert_exporter": "python",
   "pygments_lexer": "ipython3",
   "version": "3.11.7"
  }
 },
 "nbformat": 4,
 "nbformat_minor": 2
}
